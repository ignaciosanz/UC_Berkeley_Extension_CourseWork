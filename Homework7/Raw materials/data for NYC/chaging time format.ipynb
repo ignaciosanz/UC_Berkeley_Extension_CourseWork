{
 "cells": [
  {
   "cell_type": "code",
   "execution_count": 3,
   "metadata": {},
   "outputs": [
    {
     "ename": "NameError",
     "evalue": "name 'arrow' is not defined",
     "output_type": "error",
     "traceback": [
      "\u001b[0;31m---------------------------------------------------------------------------\u001b[0m",
      "\u001b[0;31mNameError\u001b[0m                                 Traceback (most recent call last)",
      "\u001b[0;32m<ipython-input-3-a35e8b6c7338>\u001b[0m in \u001b[0;36m<module>\u001b[0;34m()\u001b[0m\n\u001b[1;32m     13\u001b[0m \u001b[0mdt\u001b[0m \u001b[0;34m=\u001b[0m \u001b[0mpd\u001b[0m\u001b[0;34m.\u001b[0m\u001b[0mto_datetime\u001b[0m\u001b[0;34m(\u001b[0m\u001b[0muber_data\u001b[0m\u001b[0;34m[\u001b[0m\u001b[0;34m\"DATE\"\u001b[0m\u001b[0;34m]\u001b[0m\u001b[0;34m)\u001b[0m\u001b[0;34m\u001b[0m\u001b[0m\n\u001b[1;32m     14\u001b[0m \u001b[0;34m\u001b[0m\u001b[0m\n\u001b[0;32m---> 15\u001b[0;31m \u001b[0marrow\u001b[0m\u001b[0;34m.\u001b[0m\u001b[0mget\u001b[0m\u001b[0;34m(\u001b[0m\u001b[0mdt\u001b[0m\u001b[0;34m)\u001b[0m\u001b[0;34m.\u001b[0m\u001b[0mtimestamp\u001b[0m\u001b[0;34m\u001b[0m\u001b[0m\n\u001b[0m\u001b[1;32m     16\u001b[0m \u001b[0;31m# >>> 1378033200\u001b[0m\u001b[0;34m\u001b[0m\u001b[0;34m\u001b[0m\u001b[0m\n\u001b[1;32m     17\u001b[0m \u001b[0;34m\u001b[0m\u001b[0m\n",
      "\u001b[0;31mNameError\u001b[0m: name 'arrow' is not defined"
     ]
    }
   ],
   "source": [
    "import pandas as pd\n",
    "import numpy as np\n",
    "\n",
    "from datetime import date\n",
    "\n",
    "# File to Load (Remember to Change These)\n",
    "uber_to_load = \"ubernyc.csv\"\n",
    "\n",
    "uber_data = pd.read_csv(uber_to_load)\n",
    "\n",
    "\n",
    "\n",
    "dt = pd.to_datetime(uber_data[\"DATE\"])\n",
    "\n",
    "arrow.get(dt).timestamp\n",
    "# >>> 1378033200\n",
    "\n",
    "bc = arrow.get(1378033200).datetime\n",
    "print(bc)\n",
    "# >>> datetime.datetime(2013, 9, 1, 11, 0, tzinfo=tzutc())\n",
    "print(bc.isoformat())\n",
    "# >>> '2013-09-01T11:00:00+00:00'\n",
    "\n",
    "# temperature_data[\"datetime\"]"
   ]
  },
  {
   "cell_type": "code",
   "execution_count": 4,
   "metadata": {},
   "outputs": [
    {
     "name": "stdout",
     "output_type": "stream",
     "text": [
      "Collecting arrow\n",
      "\u001b[?25l  Downloading https://files.pythonhosted.org/packages/e0/86/4eb5228a43042e9a80fe8c84093a8a36f5db34a3767ebd5e1e7729864e7b/arrow-0.12.1.tar.gz (65kB)\n",
      "\u001b[K    100% |████████████████████████████████| 71kB 4.0MB/s ta 0:00:01\n",
      "\u001b[?25hRequirement already satisfied: python-dateutil in /System/Library/Frameworks/Python.framework/Versions/2.7/Extras/lib/python (from arrow) (1.5)\n",
      "Collecting backports.functools_lru_cache>=1.2.1 (from arrow)\n",
      "  Downloading https://files.pythonhosted.org/packages/03/8e/2424c0e65c4a066e28f539364deee49b6451f8fcd4f718fefa50cc3dcf48/backports.functools_lru_cache-1.5-py2.py3-none-any.whl\n",
      "Building wheels for collected packages: arrow\n",
      "  Running setup.py bdist_wheel for arrow ... \u001b[?25ldone\n",
      "\u001b[?25h  Stored in directory: /Users/isanz/Library/Caches/pip/wheels/a3/dd/b2/d3b8d22e8136164c2e2c36ed42392531957cdf9c717065b28b\n",
      "Successfully built arrow\n",
      "Installing collected packages: backports.functools-lru-cache, arrow\n",
      "\u001b[31mCould not install packages due to an EnvironmentError: [Errno 13] Permission denied: '/Library/Python/2.7/site-packages/backports'\n",
      "Consider using the `--user` option or check the permissions.\n",
      "\u001b[0m\n"
     ]
    }
   ],
   "source": [
    "!pip install arrow"
   ]
  },
  {
   "cell_type": "code",
   "execution_count": 4,
   "metadata": {},
   "outputs": [
    {
     "data": {
      "text/plain": [
       "DatetimeIndex(['2014-07-01 00:00:00', '2014-07-01 00:01:00',\n",
       "               '2014-07-01 00:01:00', '2014-07-01 00:01:00',\n",
       "               '2014-07-01 00:02:00', '2014-07-01 00:03:00',\n",
       "               '2014-07-01 00:08:00', '2014-07-01 00:10:00',\n",
       "               '2014-07-01 00:11:00', '2014-07-01 00:11:00',\n",
       "               ...\n",
       "               '2014-09-30 23:42:00', '2014-09-30 23:43:00',\n",
       "               '2014-09-30 23:46:00', '2014-09-30 23:46:00',\n",
       "               '2014-09-30 23:46:00', '2014-09-30 23:47:00',\n",
       "               '2014-09-30 23:48:00', '2014-09-30 23:51:00',\n",
       "               '2014-09-30 23:54:00', '2014-09-30 23:58:00'],\n",
       "              dtype='datetime64[ns]', length=91712, freq=None)"
      ]
     },
     "execution_count": 4,
     "metadata": {},
     "output_type": "execute_result"
    }
   ],
   "source": [
    "uber_data\n",
    "\n",
    "uber_data.index = pd.to_datetime(uber_data[\"DATE\"] + \" \" + uber_data[\"TIME\"])\n",
    "\n",
    "ut = uber_data.index.round(\"H\")\n",
    "\n",
    "ut"
   ]
  },
  {
   "cell_type": "code",
   "execution_count": null,
   "metadata": {},
   "outputs": [],
   "source": []
  }
 ],
 "metadata": {
  "kernelspec": {
   "display_name": "Python 3",
   "language": "python",
   "name": "python3"
  },
  "language_info": {
   "codemirror_mode": {
    "name": "ipython",
    "version": 3
   },
   "file_extension": ".py",
   "mimetype": "text/x-python",
   "name": "python",
   "nbconvert_exporter": "python",
   "pygments_lexer": "ipython3",
   "version": "3.7.0"
  }
 },
 "nbformat": 4,
 "nbformat_minor": 2
}

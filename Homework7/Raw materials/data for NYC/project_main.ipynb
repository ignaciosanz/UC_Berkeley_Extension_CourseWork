{
 "cells": [
  {
   "cell_type": "code",
   "execution_count": 10,
   "metadata": {},
   "outputs": [],
   "source": [
    "## This program takes the Uber data and rounds the time data from minutes into hours in order to match the \n",
    "# format of the weather data"
   ]
  },
  {
   "cell_type": "code",
   "execution_count": 35,
   "metadata": {},
   "outputs": [],
   "source": [
    "import pandas as pd\n",
    "import numpy as np\n",
    "import collections\n",
    "import matplotlib.pyplot as plt\n",
    "\n",
    "from datetime import date\n",
    "\n",
    "\n",
    "temperature_to_load = \"temperature.csv\"\n",
    "\n",
    "temperature_data = pd.read_csv(temperature_to_load)\n",
    "\n",
    "\n",
    "\n",
    "# File to Load (Remember to Change These)\n",
    "uber_to_load = \"ubernyc.csv\"\n",
    "\n",
    "uber_data = pd.read_csv(uber_to_load)\n"
   ]
  },
  {
   "cell_type": "code",
   "execution_count": 15,
   "metadata": {},
   "outputs": [],
   "source": [
    "#from ubernyc.csv merge the columns DATE and TIME and round the time hours\n",
    "uber_data.index = pd.to_datetime(uber_data[\"DATE\"] + \" \" + uber_data[\"TIME\"])\n",
    "ut = uber_data.index.round(\"H\")\n",
    "ut = pd.DataFrame(ut)"
   ]
  },
  {
   "cell_type": "code",
   "execution_count": 17,
   "metadata": {},
   "outputs": [],
   "source": [
    "# #Export the ut into a csv\n",
    "# with open('test1.csv', mode='w') as output_data_file:\n",
    "#     ut.to_csv(output_data_file, index_label=\"Index\")\n"
   ]
  },
  {
   "cell_type": "code",
   "execution_count": 14,
   "metadata": {},
   "outputs": [],
   "source": [
    "#take column from ut df with timestamps and make it into a list.\n",
    "list1 = []\n",
    "list1 = ut[0].tolist()\n"
   ]
  },
  {
   "cell_type": "code",
   "execution_count": 15,
   "metadata": {},
   "outputs": [],
   "source": [
    "#count the number of uber rides per hour. The output looks like a library key: value, Key is the time and value the number of rides during that time\n",
    "counter=collections.Counter(list1)\n",
    "\n",
    "df_time_as_header = pd.DataFrame(counter, index=[0])\n",
    "#transponde df_time_as_header to get correct format, one hour per row insated of one hour per column\n",
    "df_final = df_time_as_header.T"
   ]
  },
  {
   "cell_type": "code",
   "execution_count": 16,
   "metadata": {},
   "outputs": [],
   "source": [
    "#rename axis so that later the two df (Uber and Temperature) can  be merged using their index\n",
    "df_final.rename_axis('datetime')\n",
    "\n",
    "#rename column, by default 0, to 'number_of_rides' and change the name of the df to be more descriptive\n",
    "df_number_of_rides_per_hour = df_final.rename(columns={0: 'number_of_rides'})"
   ]
  },
  {
   "cell_type": "code",
   "execution_count": 32,
   "metadata": {},
   "outputs": [
    {
     "data": {
      "text/html": [
       "<div>\n",
       "<style scoped>\n",
       "    .dataframe tbody tr th:only-of-type {\n",
       "        vertical-align: middle;\n",
       "    }\n",
       "\n",
       "    .dataframe tbody tr th {\n",
       "        vertical-align: top;\n",
       "    }\n",
       "\n",
       "    .dataframe thead th {\n",
       "        text-align: right;\n",
       "    }\n",
       "</style>\n",
       "<table border=\"1\" class=\"dataframe\">\n",
       "  <thead>\n",
       "    <tr style=\"text-align: right;\">\n",
       "      <th></th>\n",
       "      <th>Temperature K</th>\n",
       "      <th>number_of_rides</th>\n",
       "    </tr>\n",
       "  </thead>\n",
       "  <tbody>\n",
       "    <tr>\n",
       "      <th>2014-07-01 00:00:00</th>\n",
       "      <td>300.91</td>\n",
       "      <td>20</td>\n",
       "    </tr>\n",
       "    <tr>\n",
       "      <th>2014-07-01 01:00:00</th>\n",
       "      <td>299.79</td>\n",
       "      <td>33</td>\n",
       "    </tr>\n",
       "    <tr>\n",
       "      <th>2014-07-01 02:00:00</th>\n",
       "      <td>298.24</td>\n",
       "      <td>21</td>\n",
       "    </tr>\n",
       "    <tr>\n",
       "      <th>2014-07-01 03:00:00</th>\n",
       "      <td>297.61</td>\n",
       "      <td>15</td>\n",
       "    </tr>\n",
       "    <tr>\n",
       "      <th>2014-07-01 04:00:00</th>\n",
       "      <td>297.22</td>\n",
       "      <td>19</td>\n",
       "    </tr>\n",
       "  </tbody>\n",
       "</table>\n",
       "</div>"
      ],
      "text/plain": [
       "                     Temperature K  number_of_rides\n",
       "2014-07-01 00:00:00         300.91               20\n",
       "2014-07-01 01:00:00         299.79               33\n",
       "2014-07-01 02:00:00         298.24               21\n",
       "2014-07-01 03:00:00         297.61               15\n",
       "2014-07-01 04:00:00         297.22               19"
      ]
     },
     "execution_count": 32,
     "metadata": {},
     "output_type": "execute_result"
    }
   ],
   "source": [
    "#select columns 'datetime' and 'New York' from tempreature data and store in a new df NYC_df\n",
    "NYC_df = temperature_data[['datetime', 'New York']].copy()\n",
    "\n",
    "#make datetime the index for 'NYC_df' df\n",
    "NYC_df.set_index('datetime', inplace=True)\n",
    "\n",
    "#rename New York column to be Temperature in K\n",
    "NYC_df = NYC_df.rename(columns={'New York': 'Temperature K'})\n",
    "\n",
    "NYC_df = NYC_df.join(df_number_of_rides_per_hour, how='inner')\n",
    "NYC_df.head()"
   ]
  },
  {
   "cell_type": "code",
   "execution_count": null,
   "metadata": {},
   "outputs": [],
   "source": []
  }
 ],
 "metadata": {
  "kernelspec": {
   "display_name": "Python 3",
   "language": "python",
   "name": "python3"
  },
  "language_info": {
   "codemirror_mode": {
    "name": "ipython",
    "version": 3
   },
   "file_extension": ".py",
   "mimetype": "text/x-python",
   "name": "python",
   "nbconvert_exporter": "python",
   "pygments_lexer": "ipython3",
   "version": "3.7.0"
  }
 },
 "nbformat": 4,
 "nbformat_minor": 2
}

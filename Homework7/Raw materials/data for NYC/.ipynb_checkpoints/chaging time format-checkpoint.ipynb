{
 "cells": [
  {
   "cell_type": "code",
   "execution_count": 2,
   "metadata": {},
   "outputs": [
    {
     "ename": "NameError",
     "evalue": "name 'temperature_data' is not defined",
     "output_type": "error",
     "traceback": [
      "\u001b[0;31m---------------------------------------------------------------------------\u001b[0m",
      "\u001b[0;31mNameError\u001b[0m                                 Traceback (most recent call last)",
      "\u001b[0;32m<ipython-input-2-89d0164c4f6e>\u001b[0m in \u001b[0;36m<module>\u001b[0;34m()\u001b[0m\n\u001b[1;32m     11\u001b[0m \u001b[0;34m\u001b[0m\u001b[0m\n\u001b[1;32m     12\u001b[0m \u001b[0;34m\u001b[0m\u001b[0m\n\u001b[0;32m---> 13\u001b[0;31m \u001b[0mdt\u001b[0m \u001b[0;34m=\u001b[0m \u001b[0mpd\u001b[0m\u001b[0;34m.\u001b[0m\u001b[0mto_datetime\u001b[0m\u001b[0;34m(\u001b[0m\u001b[0mtemperature_data\u001b[0m\u001b[0;34m[\u001b[0m\u001b[0;34m\"datetime\"\u001b[0m\u001b[0;34m]\u001b[0m\u001b[0;34m)\u001b[0m\u001b[0;34m\u001b[0m\u001b[0m\n\u001b[0m\u001b[1;32m     14\u001b[0m \u001b[0;34m\u001b[0m\u001b[0m\n\u001b[1;32m     15\u001b[0m \u001b[0marrow\u001b[0m\u001b[0;34m.\u001b[0m\u001b[0mget\u001b[0m\u001b[0;34m(\u001b[0m\u001b[0mdt\u001b[0m\u001b[0;34m)\u001b[0m\u001b[0;34m.\u001b[0m\u001b[0mtimestamp\u001b[0m\u001b[0;34m\u001b[0m\u001b[0m\n",
      "\u001b[0;31mNameError\u001b[0m: name 'temperature_data' is not defined"
     ]
    }
   ],
   "source": [
    "import pandas as pd\n",
    "import numpy as np\n",
    "\n",
    "from datetime import date\n",
    "\n",
    "# File to Load (Remember to Change These)\n",
    "uber_to_load = \"ubernyc.csv\"\n",
    "\n",
    "uber_data = pd.read_csv(uber_to_load)\n",
    "\n",
    "\n",
    "\n",
    "dt = pd.to_datetime(temperature_data[\"datetime\"])\n",
    "\n",
    "arrow.get(dt).timestamp\n",
    "# >>> 1378033200\n",
    "\n",
    "bc = arrow.get(1378033200).datetime\n",
    "print(bc)\n",
    "# >>> datetime.datetime(2013, 9, 1, 11, 0, tzinfo=tzutc())\n",
    "print(bc.isoformat())\n",
    "# >>> '2013-09-01T11:00:00+00:00'\n",
    "\n",
    "# temperature_data[\"datetime\"]"
   ]
  },
  {
   "cell_type": "code",
   "execution_count": 4,
   "metadata": {},
   "outputs": [
    {
     "data": {
      "text/plain": [
       "DatetimeIndex(['2014-07-01 00:00:00', '2014-07-01 00:01:00',\n",
       "               '2014-07-01 00:01:00', '2014-07-01 00:01:00',\n",
       "               '2014-07-01 00:02:00', '2014-07-01 00:03:00',\n",
       "               '2014-07-01 00:08:00', '2014-07-01 00:10:00',\n",
       "               '2014-07-01 00:11:00', '2014-07-01 00:11:00',\n",
       "               ...\n",
       "               '2014-09-30 23:42:00', '2014-09-30 23:43:00',\n",
       "               '2014-09-30 23:46:00', '2014-09-30 23:46:00',\n",
       "               '2014-09-30 23:46:00', '2014-09-30 23:47:00',\n",
       "               '2014-09-30 23:48:00', '2014-09-30 23:51:00',\n",
       "               '2014-09-30 23:54:00', '2014-09-30 23:58:00'],\n",
       "              dtype='datetime64[ns]', length=91712, freq=None)"
      ]
     },
     "execution_count": 4,
     "metadata": {},
     "output_type": "execute_result"
    }
   ],
   "source": [
    "uber_data\n",
    "\n",
    "uber_data.index = pd.to_datetime(uber_data[\"DATE\"] + \" \" + uber_data[\"TIME\"])\n",
    "\n",
    "ut = uber_data.index.round(\"H\")\n",
    "\n",
    "ut"
   ]
  },
  {
   "cell_type": "code",
   "execution_count": null,
   "metadata": {},
   "outputs": [],
   "source": []
  }
 ],
 "metadata": {
  "kernelspec": {
   "display_name": "Python 3",
   "language": "python",
   "name": "python3"
  },
  "language_info": {
   "codemirror_mode": {
    "name": "ipython",
    "version": 3
   },
   "file_extension": ".py",
   "mimetype": "text/x-python",
   "name": "python",
   "nbconvert_exporter": "python",
   "pygments_lexer": "ipython3",
   "version": "3.7.0"
  }
 },
 "nbformat": 4,
 "nbformat_minor": 2
}

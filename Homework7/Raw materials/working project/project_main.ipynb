{
 "cells": [
  {
   "cell_type": "code",
   "execution_count": 1,
   "metadata": {},
   "outputs": [],
   "source": [
    "## it seems there is a bit more traffic when the weather is nice but interstingly from the time the underground \n",
    "#is closed until it opens again when it is called it seems there are rides when it is cold\n",
    "# 11:00 and 12:00 seem to be the most affected by the weather, lunch time."
   ]
  },
  {
   "cell_type": "code",
   "execution_count": 2,
   "metadata": {},
   "outputs": [],
   "source": [
    "import pandas as pd\n",
    "import numpy as np\n",
    "import collections\n",
    "import matplotlib.pyplot as plt\n",
    "\n",
    "from datetime import date\n",
    "\n",
    "\n",
    "temperature_to_load = \"temperature.csv\"\n",
    "\n",
    "temperature_data = pd.read_csv(temperature_to_load)\n",
    "\n"
   ]
  },
  {
   "cell_type": "code",
   "execution_count": 3,
   "metadata": {},
   "outputs": [],
   "source": [
    "# File to Load (Remember to Change These)\n",
    "uber_to_load = \"ubernyc.csv\"\n",
    "\n",
    "uber_data = pd.read_csv(uber_to_load)"
   ]
  },
  {
   "cell_type": "code",
   "execution_count": 4,
   "metadata": {},
   "outputs": [],
   "source": [
    "#from ubernyc.csv merge the columns DATE and TIME and round the time hours\n",
    "uber_data.index = pd.to_datetime(uber_data[\"DATE\"] + \" \" + uber_data[\"TIME\"])\n"
   ]
  },
  {
   "cell_type": "code",
   "execution_count": 5,
   "metadata": {},
   "outputs": [],
   "source": [
    "ut = uber_data.index.round(\"H\")\n",
    "ut = pd.DataFrame(ut)\n"
   ]
  },
  {
   "cell_type": "code",
   "execution_count": 6,
   "metadata": {},
   "outputs": [],
   "source": [
    "# #Export the ut into a csv\n",
    "# with open('test1.csv', mode='w') as output_data_file:\n",
    "#     ut.to_csv(output_data_file, index_label=\"Index\")\n"
   ]
  },
  {
   "cell_type": "code",
   "execution_count": 7,
   "metadata": {},
   "outputs": [],
   "source": [
    "#take column from ut df with timestamps and make it into a list.\n",
    "list1 = []\n",
    "list1 = ut[0].tolist()"
   ]
  },
  {
   "cell_type": "code",
   "execution_count": 8,
   "metadata": {},
   "outputs": [],
   "source": [
    "#count the number of uber rides per hour. The output looks like a library key: value, Key is the time and value the number of rides during that time\n",
    "counter=collections.Counter(list1)\n",
    "\n",
    "df_time_as_header = pd.DataFrame(counter, index=[0])\n",
    "#transponde df_time_as_header to get correct format, one hour per row insated of one hour per column\n",
    "df_final = df_time_as_header.T\n"
   ]
  },
  {
   "cell_type": "code",
   "execution_count": 9,
   "metadata": {},
   "outputs": [],
   "source": [
    "#rename axis so that later the two df (Uber and Temperature) can  be merged using their index\n",
    "df_final.rename_axis('datetime')\n",
    "\n",
    "#rename column, by default 0, to 'number_of_rides' and change the name of the df to be more descriptive\n",
    "df_number_of_rides_per_hour = df_final.rename(columns={0: 'number_of_rides'})"
   ]
  },
  {
   "cell_type": "code",
   "execution_count": 10,
   "metadata": {},
   "outputs": [],
   "source": [
    "#use first one for fahr. I'm using the second one because i don't understand Fahr\n",
    "# def kelvin_to_fahr(temp_kelvin):\n",
    "#     temp_fahr = (((temp_kelvin - 273) * 9/5) + 32)\n",
    "#     return temp_fahr\n",
    "\n",
    "def kelvin_to_fahr(temp_kelvin):\n",
    "    temp_fahr = temp_kelvin - 273\n",
    "    return temp_fahr"
   ]
  },
  {
   "cell_type": "code",
   "execution_count": 11,
   "metadata": {},
   "outputs": [],
   "source": [
    "#select columns 'datetime' and 'New York' from tempreature data and store in a new df NYC_df\n",
    "NYC_df = temperature_data[['datetime', 'New York']].copy()\n",
    "\n",
    "#make datetime the index for 'NYC_df' df\n",
    "NYC_df.set_index('datetime', inplace=True)\n",
    "\n",
    "#rename New York column to be Temperature in K\n",
    "NYC_df = NYC_df.rename(columns={'New York': 'Temperature K'})\n",
    "\n",
    "NYC_df = NYC_df.join(df_number_of_rides_per_hour, how='inner')\n",
    "\n",
    "\n",
    "NYC_df[\"Temperature K\"] = kelvin_to_fahr(NYC_df[\"Temperature K\"])\n",
    "NYC_df = NYC_df.rename(columns={'Temperature K': 'Temperature F'})\n"
   ]
  },
  {
   "cell_type": "code",
   "execution_count": 12,
   "metadata": {},
   "outputs": [],
   "source": [
    "#Export the ut into a csv\n",
    "with open('test2.csv', mode='w') as output_data_file:\n",
    "    NYC_df.to_csv(output_data_file, index_label=\"Index\")\n"
   ]
  },
  {
   "cell_type": "code",
   "execution_count": 13,
   "metadata": {},
   "outputs": [
    {
     "data": {
      "text/html": [
       "<div>\n",
       "<style scoped>\n",
       "    .dataframe tbody tr th:only-of-type {\n",
       "        vertical-align: middle;\n",
       "    }\n",
       "\n",
       "    .dataframe tbody tr th {\n",
       "        vertical-align: top;\n",
       "    }\n",
       "\n",
       "    .dataframe thead th {\n",
       "        text-align: right;\n",
       "    }\n",
       "</style>\n",
       "<table border=\"1\" class=\"dataframe\">\n",
       "  <thead>\n",
       "    <tr style=\"text-align: right;\">\n",
       "      <th></th>\n",
       "      <th>index</th>\n",
       "      <th>Temperature F</th>\n",
       "      <th>number_of_rides</th>\n",
       "    </tr>\n",
       "  </thead>\n",
       "  <tbody>\n",
       "    <tr>\n",
       "      <th>0</th>\n",
       "      <td>2014-07-01 00:00:00</td>\n",
       "      <td>27.91</td>\n",
       "      <td>20</td>\n",
       "    </tr>\n",
       "    <tr>\n",
       "      <th>1</th>\n",
       "      <td>2014-07-01 01:00:00</td>\n",
       "      <td>26.79</td>\n",
       "      <td>33</td>\n",
       "    </tr>\n",
       "    <tr>\n",
       "      <th>2</th>\n",
       "      <td>2014-07-01 02:00:00</td>\n",
       "      <td>25.24</td>\n",
       "      <td>21</td>\n",
       "    </tr>\n",
       "    <tr>\n",
       "      <th>3</th>\n",
       "      <td>2014-07-01 03:00:00</td>\n",
       "      <td>24.61</td>\n",
       "      <td>15</td>\n",
       "    </tr>\n",
       "    <tr>\n",
       "      <th>4</th>\n",
       "      <td>2014-07-01 04:00:00</td>\n",
       "      <td>24.22</td>\n",
       "      <td>19</td>\n",
       "    </tr>\n",
       "  </tbody>\n",
       "</table>\n",
       "</div>"
      ],
      "text/plain": [
       "                index  Temperature F  number_of_rides\n",
       "0 2014-07-01 00:00:00          27.91               20\n",
       "1 2014-07-01 01:00:00          26.79               33\n",
       "2 2014-07-01 02:00:00          25.24               21\n",
       "3 2014-07-01 03:00:00          24.61               15\n",
       "4 2014-07-01 04:00:00          24.22               19"
      ]
     },
     "execution_count": 13,
     "metadata": {},
     "output_type": "execute_result"
    }
   ],
   "source": [
    "NYC_df.reset_index(inplace=True)\n",
    "NYC_df.head(5)\n"
   ]
  },
  {
   "cell_type": "code",
   "execution_count": 165,
   "metadata": {},
   "outputs": [
    {
     "data": {
      "text/html": [
       "<div>\n",
       "<style scoped>\n",
       "    .dataframe tbody tr th:only-of-type {\n",
       "        vertical-align: middle;\n",
       "    }\n",
       "\n",
       "    .dataframe tbody tr th {\n",
       "        vertical-align: top;\n",
       "    }\n",
       "\n",
       "    .dataframe thead th {\n",
       "        text-align: right;\n",
       "    }\n",
       "</style>\n",
       "<table border=\"1\" class=\"dataframe\">\n",
       "  <thead>\n",
       "    <tr style=\"text-align: right;\">\n",
       "      <th></th>\n",
       "      <th>index</th>\n",
       "      <th>Temperature F</th>\n",
       "      <th>number_of_rides</th>\n",
       "    </tr>\n",
       "  </thead>\n",
       "  <tbody>\n",
       "    <tr>\n",
       "      <th>1</th>\n",
       "      <td>2014-07-01 01:00:00</td>\n",
       "      <td>26.79</td>\n",
       "      <td>33</td>\n",
       "    </tr>\n",
       "    <tr>\n",
       "      <th>2</th>\n",
       "      <td>2014-07-01 02:00:00</td>\n",
       "      <td>25.24</td>\n",
       "      <td>21</td>\n",
       "    </tr>\n",
       "  </tbody>\n",
       "</table>\n",
       "</div>"
      ],
      "text/plain": [
       "                 index Temperature F number_of_rides\n",
       "1  2014-07-01 01:00:00         26.79              33\n",
       "2  2014-07-01 02:00:00         25.24              21"
      ]
     },
     "execution_count": 165,
     "metadata": {},
     "output_type": "execute_result"
    }
   ],
   "source": [
    "number = 0\n",
    "a = NYC_df.iloc[number,]\n",
    "a = pd.DataFrame(a)\n",
    "b = NYC_df.iloc[number+1,]\n",
    "b = pd.DataFrame(b)\n",
    "c = a.join(b, how='outer')\n",
    "c.T"
   ]
  },
  {
   "cell_type": "markdown",
   "metadata": {},
   "source": [
    "## "
   ]
  },
  {
   "cell_type": "code",
   "execution_count": 210,
   "metadata": {},
   "outputs": [
    {
     "data": {
      "text/plain": [
       "{31.470000000000027: 53,\n",
       " 31.529999999999973: 62,\n",
       " 24.160000000000025: 33,\n",
       " 29.439999999999998: 45,\n",
       " 22.129999999999995: 35,\n",
       " 27.69999999999999: 38,\n",
       " 23.230000000000018: 48,\n",
       " 26.220000000000027: 52,\n",
       " 27.0: 47,\n",
       " 30.420000000000016: 46,\n",
       " 20.810000000000002: 46,\n",
       " 18.560000000000002: 34,\n",
       " 19.180000000000007: 39}"
      ]
     },
     "execution_count": 210,
     "metadata": {},
     "output_type": "execute_result"
    }
   ],
   "source": [
    "#takes a sample every week\n",
    "#in order to gather one value per week calculate the lenght of the data set and divide it by (24 hours * 7 days)\n",
    "counter247 = len(NYC_df.iloc[:,0:1])/(24*7)\n",
    "#number is the first value that will be used, e.g. look for the time and date on the first week of the csv\n",
    "#inter the index value of the csv as the 'number' and you will get one sample for every week at that\n",
    "#exact time of the day\n",
    "number = 23\n",
    "temp = []\n",
    "rides = []\n",
    "\n",
    "for x in range(int(counter247)):\n",
    "    b = NYC_df.iloc[number,]\n",
    "    b = pd.DataFrame(b)\n",
    "    # add temperature to list\n",
    "    #b.iat[1,0]\n",
    "    temp.append(b.iat[1,0])\n",
    "    #temp.append(int(b.iat[1,0]))\n",
    "    # add number of rides to list\n",
    "    rides.append(b.iat[2,0])\n",
    "    number = number + 168 #168 (24*7) takes a sample every week\n",
    "    \n",
    "\n",
    "#creat dictoniry if needed\n",
    "k = dict(zip(temp,rides))\n",
    "k"
   ]
  },
  {
   "cell_type": "code",
   "execution_count": 211,
   "metadata": {},
   "outputs": [
    {
     "data": {
      "text/plain": [
       "(7, 30)"
      ]
     },
     "execution_count": 211,
     "metadata": {},
     "output_type": "execute_result"
    },
    {
     "data": {
      "image/png": "[encoded data removed]",
      "text/plain": [
       "<Figure size 432x288 with 1 Axes>"
      ]
     },
     "metadata": {
      "needs_background": "light"
     },
     "output_type": "display_data"
    }
   ],
   "source": [
    "plt.bar(temp, rides, color=\"b\", align=\"center\")\n",
    "plt.ylim(0, 80)\n",
    "plt.xlim(7, 30)"
   ]
  },
  {
   "cell_type": "code",
   "execution_count": 140,
   "metadata": {},
   "outputs": [],
   "source": [
    "#Takes a sample every 24hours\n",
    "#in order to gather one value per week calculate the lenght of the data set and divide it by (24 hours * 7 days)\n",
    "counter247 = len(NYC_df.iloc[:,0:1])/24\n",
    "#number is the first value that will be used, e.g. look for the time and date on the first week of the csv\n",
    "#inter the index value of the csv as the 'number' and you will get one sample for every week at that\n",
    "#exact time of the day\n",
    "number = 14\n",
    "temp = []\n",
    "rides = []\n",
    "\n",
    "for x in range(int(counter247)):\n",
    "    b = NYC_df.iloc[number,]\n",
    "    b = pd.DataFrame(b)\n",
    "    # add temperature to list\n",
    "    #b.iat[1,0]\n",
    "    temp.append(b.iat[1,0])\n",
    "    #temp.append(int(b.iat[1,0]))\n",
    "    # add number of rides to list\n",
    "    rides.append(b.iat[2,0])\n",
    "    number = number + 24 #24 takes a sample every 24 hours\n",
    "\n",
    "#creat dictoniry if needed\n",
    "k = dict(zip(temp,rides))\n"
   ]
  },
  {
   "cell_type": "code",
   "execution_count": 225,
   "metadata": {
    "scrolled": true
   },
   "outputs": [],
   "source": [
    "#Compare number of rides at noon divided by temperature\n",
    "counter247 = len(NYC_df.iloc[:,0:1])/24\n",
    "#number is the first value that will be used, e.g. look for the time and date on the first week of the csv\n",
    "#inter the index value of the csv as the 'number' and you will get one sample for every week at that\n",
    "#exact time of the day\n",
    "number = 12\n",
    "temp = []\n",
    "rides = []\n",
    "\n",
    "\n",
    "for x in range(int(counter247)):\n",
    "    b = NYC_df.iloc[number,]\n",
    "    b = pd.DataFrame(b)\n",
    "    # add temperature to list\n",
    "    #b.iat[1,0]\n",
    "    temp.append(b.iat[1,0])\n",
    "    #temp.append(int(b.iat[1,0]))\n",
    "    # add number of rides to list\n",
    "    rides.append(b.iat[2,0])\n",
    "    number = number + 24 #24 takes a sample every 24 hours\n",
    "    \n",
    "\n",
    "\n",
    "#creat dictoniry if needed\n",
    "k = dict(zip(temp,rides))\n",
    "\n",
    "\n",
    "    "
   ]
  },
  {
   "cell_type": "code",
   "execution_count": 250,
   "metadata": {},
   "outputs": [
    {
     "data": {
      "text/plain": [
       "40.887728459530024"
      ]
     },
     "execution_count": 250,
     "metadata": {},
     "output_type": "execute_result"
    }
   ],
   "source": [
    "cold_df = NYC_df.loc[NYC_df['Temperature F'] < 15]\n",
    "cold = cold_df[\"number_of_rides\"].mean()\n",
    "warm_df = NYC_df.loc[NYC_df['Temperature F'] > 16]\n",
    "warm_df = warm_df.loc[warm_df['Temperature F'] < 26]\n",
    "warm = warm_df[\"number_of_rides\"].mean()\n",
    "\n",
    "hot_df = NYC_df.loc[NYC_df['Temperature F'] > 25]\n",
    "hot = hot_df[\"number_of_rides\"].mean()\n",
    "warm"
   ]
  },
  {
   "cell_type": "code",
   "execution_count": null,
   "metadata": {},
   "outputs": [],
   "source": [
    "cold = 38.23\n",
    "warm = 40.89\n",
    "hot = 44.92"
   ]
  }
 ],
 "metadata": {
  "kernelspec": {
   "display_name": "Python 3",
   "language": "python",
   "name": "python3"
  },
  "language_info": {
   "codemirror_mode": {
    "name": "ipython",
    "version": 3
   },
   "file_extension": ".py",
   "mimetype": "text/x-python",
   "name": "python",
   "nbconvert_exporter": "python",
   "pygments_lexer": "ipython3",
   "version": "3.7.0"
  }
 },
 "nbformat": 4,
 "nbformat_minor": 2
}

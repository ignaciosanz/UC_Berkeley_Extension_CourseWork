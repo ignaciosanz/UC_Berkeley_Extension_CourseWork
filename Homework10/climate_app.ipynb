{
 "cells": [
  {
   "cell_type": "markdown",
   "metadata": {},
   "source": [
    "## Step 2 - Climate App"
   ]
  },
  {
   "cell_type": "code",
   "execution_count": 1,
   "metadata": {},
   "outputs": [],
   "source": [
    "# Python SQL toolkit and Object Relational Mapper\n",
    "import sqlalchemy\n",
    "import datetime as dt\n",
    "import numpy as np\n",
    "import pandas as pd\n",
    "from sqlalchemy.ext.automap import automap_base\n",
    "from sqlalchemy.orm import Session\n",
    "from sqlalchemy import create_engine, func, inspect"
   ]
  },
  {
   "cell_type": "code",
   "execution_count": 2,
   "metadata": {},
   "outputs": [],
   "source": [
    "# database setup\n",
    "engine = create_engine(\"sqlite:///hawaii.sqlite\")"
   ]
  },
  {
   "cell_type": "code",
   "execution_count": 3,
   "metadata": {},
   "outputs": [],
   "source": [
    "# Create our session (link) from Python to the DB\n",
    "session = Session(engine)"
   ]
  },
  {
   "cell_type": "code",
   "execution_count": 4,
   "metadata": {},
   "outputs": [],
   "source": [
    "from flask import Flask, jsonify"
   ]
  },
  {
   "cell_type": "code",
   "execution_count": 5,
   "metadata": {},
   "outputs": [],
   "source": [
    "#calculate the dates for the query.\n",
    "end_date = dt.datetime(year=2017, month=8, day=23)\n",
    "start_date = end_date - dt.timedelta(days=365)"
   ]
  },
  {
   "cell_type": "code",
   "execution_count": 12,
   "metadata": {},
   "outputs": [],
   "source": [
    "# query data set\n",
    "query = f\"SELECT * FROM measurement WHERE date >= '{start_date}' AND date <= '{end_date}'\"\n",
    "\n",
    "# build df from query result\n",
    "df_query = pd.read_sql_query(query, session.bind)"
   ]
  },
  {
   "cell_type": "code",
   "execution_count": 7,
   "metadata": {},
   "outputs": [],
   "source": [
    "# Routes\n",
    "# /api/v1.0/precipitation\n",
    "# Query for the dates and temperature observations from the last year\n",
    "#app = Flask(__name__)\n",
    "\n",
    "#@app.route('/api/v1.0/precipitation') \n",
    "def precipitation():\n",
    "    print(\"Server received request for 'Precipitation' page...\")\n",
    "    return \"These are the dates and temperature observations from last year.\"\n",
    "  \n",
    "    # create replica of df_query to remove unwanted columns but leave the original df for other queries\n",
    "    df_query_tobs = df_query\n",
    "\n",
    "    # removed unwanted columns\n",
    "    df_query_tobs.drop('id', axis=1, inplace=True)\n",
    "    df_query_tobs.drop('station', axis=1, inplace=True)\n",
    "    df_query_tobs.drop('prcp', axis=1, inplace=True)\n",
    "    \n",
    "# Return the json representation dictionary. df to dictionary happening inside the argument of jsonify\n",
    "    return jsonify(df_query_tobs.to_dict(orient='records'))"
   ]
  },
  {
   "cell_type": "code",
   "execution_count": 8,
   "metadata": {},
   "outputs": [],
   "source": [
    "# Return a json list of stations from the dataset\n",
    "#@app.route(\"/api/v1.0/stations\")\n",
    "def stations():\n",
    "    print(\"Server received request for 'stations' page...\")\n",
    "    return \"These are the list of stations that recorded dates and temperature observations from last year.\"\n",
    "  \n",
    "    query = f\"SELECT DISTINCT station FROM measurement WHERE date >= '{start_date}' AND date <= '{end_date}'\"\n",
    "    \n",
    "    # build df from query result\n",
    "    df_query = pd.read_sql_query(query, session.bind)\n",
    "    \n",
    "# Return the json representation dictionary. df to dictionary happening inside the argument of jsonify\n",
    "    return jsonify(df_query.to_dict(orient='records'))"
   ]
  },
  {
   "cell_type": "code",
   "execution_count": 9,
   "metadata": {},
   "outputs": [],
   "source": [
    "# /api/v1.0/tobs\n",
    "# Return a json list of Temperature Observations (tobs) for the previous year\n",
    "#@app.route('/api/v1.0/tobs') \n",
    "def tobs():\n",
    "    print(\"Server received request for 'Temperature Observations' page...\")\n",
    "    return \"This is the list of Temperature Observations (tobs) from previous year!\"\n",
    "    \n",
    "    #calculate the dates for previous year for the query.\n",
    "    start_date2 = start_date - dt.timedelta(days=365)\n",
    "    end_date2 = end_date - dt.timedelta(days=365)\n",
    "    \n",
    "    query = f\"SELECT tobs FROM measurement WHERE date >= '{start_date2}' AND date <= '{end_date2}'\"\n",
    "    \n",
    "    # build df from query result\n",
    "    df_query = pd.read_sql_query(query, session.bind)\n",
    "    \n",
    "    return jsonify(df_query.to_dict(orient='records'))"
   ]
  },
  {
   "cell_type": "code",
   "execution_count": 13,
   "metadata": {},
   "outputs": [],
   "source": [
    "# /api/v1.0/<start> and /api/v1.0/<start>/<end>\n",
    "# Return a json list of the minimum temperature, the average temperature, and \n",
    "# the max temperature for a given start or start-end range.\n",
    "#@app.route('/api/v1.0/<start>)') \n",
    "def tobs_start():\n",
    "    print(\"Server received request for 'Min Temp, Avg Temp, Max Temp of a given start' page...\")\n",
    "    return \"Here is the list of Temperature information for the a given date!\"\n",
    "    \n",
    "    query = f\"SELECT MIN(tobs), MAX(tobs), AVG(tobs) FROM measurement WHERE date >= '{start_date}'\"\n",
    "    \n",
    "    # build df from query result\n",
    "    df_query = pd.read_sql_query(query, session.bind)\n",
    "\n",
    "    my_list = df_query[\"MIN(tobs)\"].values\n",
    "    min_tobs = my_list[0]\n",
    "\n",
    "    my_list = df_query[\"MAX(tobs)\"].values\n",
    "    max_tobs = my_list[0]\n",
    "\n",
    "    my_list = df_query[\"AVG(tobs)\"].values\n",
    "    avg_tobs = my_list[0]\n",
    "    \n",
    "    return jsonify(min_tobs, max_tobs, avg_tobs)\n",
    "\n",
    "#@app.route('/api/v1.0/<start>/<end>') \n",
    "def tobs_given_range():\n",
    "    \n",
    "    print(\"Server received request for 'Min Temp, Avg Temp, Max Temp of a given start or date range' page...\")\n",
    "    return \"Here is the list of Temperature information for the a given date range!\"\n",
    "    \n",
    "    query = f\"SELECT MIN(tobs) FROM measurement WHERE date >= '{start_date}' AND date <= '{end_date}'\"\n",
    "    \n",
    "    # build df from query result\n",
    "    df_query = pd.read_sql_query(query, session.bind)\n",
    "\n",
    "    my_list = df_query[\"MIN(tobs)\"].values\n",
    "    min_tobs = my_list[0]\n",
    "\n",
    "    my_list = df_query[\"MAX(tobs)\"].values\n",
    "    max_tobs = my_list[0]\n",
    "\n",
    "    my_list = df_query[\"AVG(tobs)\"].values\n",
    "    avg_tobs = my_list[0]\n",
    "    \n",
    "    return jsonify(min_tobs, max_tobs, avg_tobs)"
   ]
  }
 ],
 "metadata": {
  "kernel_info": {
   "name": "python3"
  },
  "kernelspec": {
   "display_name": "Python 3",
   "language": "python",
   "name": "python3"
  },
  "language_info": {
   "codemirror_mode": {
    "name": "ipython",
    "version": 3
   },
   "file_extension": ".py",
   "mimetype": "text/x-python",
   "name": "python",
   "nbconvert_exporter": "python",
   "pygments_lexer": "ipython3",
   "version": "3.6.6"
  },
  "nteract": {
   "version": "0.9.1"
  },
  "varInspector": {
   "cols": {
    "lenName": 16,
    "lenType": 16,
    "lenVar": 40
   },
   "kernels_config": {
    "python": {
     "delete_cmd_postfix": "",
     "delete_cmd_prefix": "del ",
     "library": "var_list.py",
     "varRefreshCmd": "print(var_dic_list())"
    },
    "r": {
     "delete_cmd_postfix": ") ",
     "delete_cmd_prefix": "rm(",
     "library": "var_list.r",
     "varRefreshCmd": "cat(var_dic_list()) "
    }
   },
   "types_to_exclude": [
    "module",
    "function",
    "builtin_function_or_method",
    "instance",
    "_Feature"
   ],
   "window_display": false
  }
 },
 "nbformat": 4,
 "nbformat_minor": 2
}

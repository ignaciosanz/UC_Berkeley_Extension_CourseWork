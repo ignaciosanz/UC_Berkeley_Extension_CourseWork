{
 "cells": [
  {
   "cell_type": "code",
   "execution_count": 1,
   "metadata": {},
   "outputs": [],
   "source": [
    "%matplotlib inline\n",
    "from matplotlib import style\n",
    "style.use('fivethirtyeight')\n",
    "import matplotlib.pyplot as plt\n",
    "import datetime"
   ]
  },
  {
   "cell_type": "code",
   "execution_count": 2,
   "metadata": {},
   "outputs": [],
   "source": [
    "import numpy as np\n",
    "import pandas as pd"
   ]
  },
  {
   "cell_type": "code",
   "execution_count": 3,
   "metadata": {},
   "outputs": [],
   "source": [
    "import datetime as dt"
   ]
  },
  {
   "cell_type": "markdown",
   "metadata": {},
   "source": [
    "# Reflect Tables into SQLAlchemy ORM"
   ]
  },
  {
   "cell_type": "code",
   "execution_count": 114,
   "metadata": {},
   "outputs": [],
   "source": [
    "# Python SQL toolkit and Object Relational Mapper\n",
    "import sqlalchemy\n",
    "from sqlalchemy.ext.automap import automap_base\n",
    "from sqlalchemy.orm import Session\n",
    "from sqlalchemy import create_engine, func, inspect"
   ]
  },
  {
   "cell_type": "code",
   "execution_count": 5,
   "metadata": {},
   "outputs": [],
   "source": [
    "engine = create_engine(\"sqlite:///hawaii.sqlite\")"
   ]
  },
  {
   "cell_type": "code",
   "execution_count": 6,
   "metadata": {},
   "outputs": [],
   "source": [
    "# reflect an existing database into a new model\n",
    "Base = automap_base()\n",
    "# reflect the tables\n",
    "Base.prepare(engine, reflect=True)"
   ]
  },
  {
   "cell_type": "code",
   "execution_count": 7,
   "metadata": {},
   "outputs": [
    {
     "data": {
      "text/plain": [
       "['measurement', 'station']"
      ]
     },
     "execution_count": 7,
     "metadata": {},
     "output_type": "execute_result"
    }
   ],
   "source": [
    "# We can view all of the classes that automap found\n",
    "Base.classes.keys()"
   ]
  },
  {
   "cell_type": "code",
   "execution_count": 134,
   "metadata": {},
   "outputs": [],
   "source": [
    "# Save references to each table\n",
    "Measurement = Base.classes.measurement\n",
    "Station = Base.classes.station"
   ]
  },
  {
   "cell_type": "code",
   "execution_count": 9,
   "metadata": {},
   "outputs": [],
   "source": [
    "# Create our session (link) from Python to the DB\n",
    "session = Session(engine)"
   ]
  },
  {
   "cell_type": "markdown",
   "metadata": {},
   "source": [
    "# Exploratory Climate Analysis"
   ]
  },
  {
   "cell_type": "code",
   "execution_count": 1,
   "metadata": {},
   "outputs": [],
   "source": [
    "# Design a query to retrieve the last 12 months of precipitation data and plot the results\n",
    "\n",
    "# Calculate the date 1 year ago from today\n",
    "\n",
    "# Perform a query to retrieve the data and precipitation scores\n",
    "\n",
    "# Save the query results as a Pandas DataFrame and set the index to the date column\n",
    "\n",
    "# Sort the dataframe by date\n",
    "\n",
    "# Use Pandas Plotting with Matplotlib to plot the data\n",
    "\n",
    "# Rotate the xticks for the dates\n"
   ]
  },
  {
   "cell_type": "code",
   "execution_count": 10,
   "metadata": {},
   "outputs": [],
   "source": [
    "# Calculate the date 1 year ago from today\n",
    "end_date = dt.datetime(year=2017, month=8, day=23)\n",
    "start_date = end_date - dt.timedelta(days=365)"
   ]
  },
  {
   "cell_type": "code",
   "execution_count": 25,
   "metadata": {},
   "outputs": [],
   "source": [
    "# Perform a query to retrieve the data and precipitation scores\n",
    "query_date_prep_one_year = f\"SELECT date, prcp FROM measurement WHERE date >= '{start_date}' AND date <= '{end_date}'\""
   ]
  },
  {
   "cell_type": "code",
   "execution_count": 26,
   "metadata": {},
   "outputs": [],
   "source": [
    "# Save the query results as a Pandas DataFrame and set the index to the date column\n",
    "date_prep_query_df = pd.read_sql_query(query_date_prep_one_year, session.bind)\n",
    "date_prep_query_df.set_index('date', inplace=True)"
   ]
  },
  {
   "cell_type": "code",
   "execution_count": 27,
   "metadata": {},
   "outputs": [
    {
     "data": {
      "image/png": "[encoded data removed]",
      "text/plain": [
       "<Figure size 432x288 with 1 Axes>"
      ]
     },
     "metadata": {
      "needs_background": "light"
     },
     "output_type": "display_data"
    }
   ],
   "source": [
    "# Use Pandas Plotting with Matplotlib to plot the data\n",
    "date_prep_query_df.plot()\n",
    "plt.xticks(rotation='45')\n",
    "plt.show()"
   ]
  },
  {
   "cell_type": "code",
   "execution_count": 20,
   "metadata": {},
   "outputs": [
    {
     "data": {
      "text/html": [
       "<div>\n",
       "<style scoped>\n",
       "    .dataframe tbody tr th:only-of-type {\n",
       "        vertical-align: middle;\n",
       "    }\n",
       "\n",
       "    .dataframe tbody tr th {\n",
       "        vertical-align: top;\n",
       "    }\n",
       "\n",
       "    .dataframe thead th {\n",
       "        text-align: right;\n",
       "    }\n",
       "</style>\n",
       "<table border=\"1\" class=\"dataframe\">\n",
       "  <thead>\n",
       "    <tr style=\"text-align: right;\">\n",
       "      <th></th>\n",
       "      <th>prcp</th>\n",
       "    </tr>\n",
       "  </thead>\n",
       "  <tbody>\n",
       "    <tr>\n",
       "      <th>count</th>\n",
       "      <td>2015.000000</td>\n",
       "    </tr>\n",
       "    <tr>\n",
       "      <th>mean</th>\n",
       "      <td>0.176462</td>\n",
       "    </tr>\n",
       "    <tr>\n",
       "      <th>std</th>\n",
       "      <td>0.460288</td>\n",
       "    </tr>\n",
       "    <tr>\n",
       "      <th>min</th>\n",
       "      <td>0.000000</td>\n",
       "    </tr>\n",
       "    <tr>\n",
       "      <th>25%</th>\n",
       "      <td>0.000000</td>\n",
       "    </tr>\n",
       "    <tr>\n",
       "      <th>50%</th>\n",
       "      <td>0.020000</td>\n",
       "    </tr>\n",
       "    <tr>\n",
       "      <th>75%</th>\n",
       "      <td>0.130000</td>\n",
       "    </tr>\n",
       "    <tr>\n",
       "      <th>max</th>\n",
       "      <td>6.700000</td>\n",
       "    </tr>\n",
       "  </tbody>\n",
       "</table>\n",
       "</div>"
      ],
      "text/plain": [
       "              prcp\n",
       "count  2015.000000\n",
       "mean      0.176462\n",
       "std       0.460288\n",
       "min       0.000000\n",
       "25%       0.000000\n",
       "50%       0.020000\n",
       "75%       0.130000\n",
       "max       6.700000"
      ]
     },
     "execution_count": 20,
     "metadata": {},
     "output_type": "execute_result"
    }
   ],
   "source": [
    "# Use Pandas to calcualte the summary statistics for the precipitation data\n",
    "date_prep_query_df.describe(include = 'all')"
   ]
  },
  {
   "cell_type": "code",
   "execution_count": 33,
   "metadata": {},
   "outputs": [
    {
     "data": {
      "text/plain": [
       "9"
      ]
     },
     "execution_count": 33,
     "metadata": {},
     "output_type": "execute_result"
    }
   ],
   "source": [
    "# How many stations are available in this dataset?\n",
    "\n",
    "#using SQL\n",
    "engine.execute('SELECT COUNT(distinct(station)) FROM Measurement').fetchall()\n",
    "\n",
    "# or also using SQL\n",
    "query_number_of_stations = f\"SELECT COUNT(distinct(station)) AS Number_of_Stations FROM Measurement\"\n",
    "date_prep_query_df = pd.read_sql_query(query_number_of_stations, session.bind)\n",
    "date_prep_query_df\n",
    "\n",
    "#using Python\n",
    "stations_count = (session\n",
    "                  .query(Measurement.station)\n",
    "                  .distinct()\n",
    "                  .count())\n",
    "stations_count\n",
    "\n"
   ]
  },
  {
   "cell_type": "code",
   "execution_count": 34,
   "metadata": {},
   "outputs": [
    {
     "data": {
      "text/plain": [
       "[('USC00519281', 2772),\n",
       " ('USC00519397', 2724),\n",
       " ('USC00513117', 2709),\n",
       " ('USC00519523', 2669),\n",
       " ('USC00516128', 2612),\n",
       " ('USC00514830', 2202),\n",
       " ('USC00511918', 1979),\n",
       " ('USC00517948', 1372),\n",
       " ('USC00518838', 511)]"
      ]
     },
     "execution_count": 34,
     "metadata": {},
     "output_type": "execute_result"
    }
   ],
   "source": [
    "# What are the most active stations?\n",
    "# List the stations and the counts in descending order.\n",
    "session.query(Measurement.station,\\\n",
    "              func.count(Measurement.station))\\\n",
    "              .order_by(func.count(Measurement.station).desc())\\\n",
    "              .group_by(Measurement.station).all()"
   ]
  },
  {
   "cell_type": "code",
   "execution_count": 35,
   "metadata": {},
   "outputs": [
    {
     "data": {
      "text/plain": [
       "[(71.66378066378067, 85.0, 54.0)]"
      ]
     },
     "execution_count": 35,
     "metadata": {},
     "output_type": "execute_result"
    }
   ],
   "source": [
    "# Using the station id from the previous query, calculate the lowest temperature recorded, \n",
    "# highest temperature recorded, and average temperature most active station?\n",
    "\n",
    "#using SQL\n",
    "engine.execute('SELECT MAX(tobs) FROM Measurement WHERE station = \"USC00519281\"').fetchall()\n",
    "engine.execute('SELECT MIN(tobs) FROM Measurement WHERE station = \"USC00519281\"').fetchall()\n",
    "engine.execute('SELECT AVG(tobs) FROM Measurement WHERE station = \"USC00519281\"').fetchall()\n",
    "\n",
    "#using python\n",
    "session.query(func.avg(Measurement.tobs), func.max(Measurement.tobs), func.min(Measurement.tobs))\\\n",
    "            .filter(Measurement.station == 'USC00519281')\\\n",
    "            .all()"
   ]
  },
  {
   "cell_type": "code",
   "execution_count": 36,
   "metadata": {},
   "outputs": [
    {
     "data": {
      "text/plain": [
       "[('USC00519281', 2772)]"
      ]
     },
     "execution_count": 36,
     "metadata": {},
     "output_type": "execute_result"
    }
   ],
   "source": [
    "# Choose the station with the highest number of temperature observations.\n",
    "engine.execute('SELECT station, COUNT(tobs) as total\\\n",
    "               FROM Measurement GROUP BY station\\\n",
    "               ORDER BY total DESC LIMIT 1').fetchall()\n"
   ]
  },
  {
   "cell_type": "code",
   "execution_count": 37,
   "metadata": {},
   "outputs": [
    {
     "data": {
      "image/png": "[encoded data removed]",
      "text/plain": [
       "<Figure size 432x288 with 1 Axes>"
      ]
     },
     "metadata": {
      "needs_background": "light"
     },
     "output_type": "display_data"
    }
   ],
   "source": [
    "# Query the last 12 months of temperature observation data for this station and plot the results as a histogram\n",
    "tobs_12months = (session\n",
    "              .query(Measurement.tobs)\n",
    "              .filter(Measurement.station == 'USC00519281')\n",
    "              .filter(Measurement.date <= '2017-08-23')\n",
    "              .filter(Measurement.date >= '2016-08-23')\n",
    "              .order_by(Measurement.date)\n",
    "              .all())\n",
    "\n",
    "#use query result to build tobs_df (this is to be used for plotting)\n",
    "tobs_df = pd.DataFrame(tobs_12months, columns=['tobs'])\n",
    "tobs_list = tobs_df['tobs']\n",
    "\n",
    "#use tobs_list to plot hist\n",
    "plt.hist(tobs_list, bins=12)\n",
    "plt.xlabel('tobs')\n",
    "plt.ylabel('Frequency')\n",
    "plt.title('USC00519281 from 2016-08-23 to 2017-08-23')\n",
    "plt.grid()\n",
    "plt.show()"
   ]
  },
  {
   "cell_type": "code",
   "execution_count": 57,
   "metadata": {},
   "outputs": [
    {
     "name": "stdout",
     "output_type": "stream",
     "text": [
      "[(62.0, 69.57142857142857, 74.0)]\n"
     ]
    }
   ],
   "source": [
    "\n",
    "# Write a function called `calc_temps` that will accept start date and end date in the \n",
    "#format '%Y-%m-%d' \n",
    "# and return the minimum, average, and maximum temperatures for that range of dates\n",
    "def calc_temps(start_date, end_date):\n",
    "    start_date_query = datetime.datetime.strptime(start_date, \"%Y-%m-%d\") - datetime.timedelta(days=365)\n",
    "    end_date_query = datetime.datetime.strptime(end_date, \"%Y-%m-%d\") - datetime.timedelta(days=365)\n",
    "\n",
    "    \n",
    "    return session.query(func.min(Measurement.tobs), func.avg(Measurement.tobs), func.max(Measurement.tobs)).\\\n",
    "        filter(Measurement.date >= start_date).filter(Measurement.date <= end_date).all()\n",
    "print(calc_temps('2012-02-28', '2012-03-05'))"
   ]
  },
  {
   "cell_type": "code",
   "execution_count": 73,
   "metadata": {},
   "outputs": [
    {
     "name": "stdout",
     "output_type": "stream",
     "text": [
      "[(62.0, 69.57142857142857, 74.0)]\n"
     ]
    }
   ],
   "source": [
    "# Use your previous function `calc_temps` to calculate the tmin, tavg, and tmax \n",
    "# for your trip using the previous year's data for those same dates.\n",
    "# my trip is also from '2012-02-28' t '2012-03-05'\n",
    "print(calc_temps('2012-02-28', '2012-03-05'))"
   ]
  },
  {
   "cell_type": "code",
   "execution_count": 101,
   "metadata": {},
   "outputs": [
    {
     "data": {
      "image/png": "[encoded data removed]",
      "text/plain": [
       "<Figure size 216x360 with 1 Axes>"
      ]
     },
     "metadata": {
      "needs_background": "light"
     },
     "output_type": "display_data"
    }
   ],
   "source": [
    "# Plot the results from your previous query as a bar chart. \n",
    "# Use \"Trip Avg Temp\" as your Title\n",
    "# Use the average temperature for the y value\n",
    "# Use the peak-to-peak (tmax-tmin) value as the y error bar (yerr)\n",
    "\n",
    "# first get min, max and avg values. Need to use zip because the result from calc_temps is a list with a single value\n",
    "#using zip I can get each individual value within the first index of the result form calc_temps\n",
    "result_list = calc_temps('2012-02-28', '2012-03-05')\n",
    "min_temperature = (list(zip(*result_list))[0])[0]\n",
    "avg_temperature = (list(zip(*result_list))[1])[0]\n",
    "max_temperature = (list(zip(*result_list))[2])[0]\n",
    "\n",
    "\n",
    "plt.figure(figsize=(3,5))\n",
    "plt.bar(1, avg_temperature, yerr=(max_temperature - min_temperature), tick_label='', color='pink')\n",
    "plt.ylabel(\"Temp (F)\", weight=\"bold\")\n",
    "plt.title(\"Trip Avg Temp\", weight=\"bold\")\n",
    "plt.show()\n"
   ]
  },
  {
   "cell_type": "code",
   "execution_count": 155,
   "metadata": {},
   "outputs": [
    {
     "name": "stdout",
     "output_type": "stream",
     "text": [
      "2011-02-28 00:00:00 2011-03-06 00:00:00\n"
     ]
    }
   ],
   "source": [
    "# select dates of my holiday\n",
    "start_date = dt.datetime(year=2012, month=2, day=28)\n",
    "end_date = dt.datetime(year=2012, month=3, day=5)\n",
    "\n",
    "# calculate date a year before\n",
    "new_start_date = start_date - dt.timedelta(days=365)\n",
    "new_end_date = end_date - dt.timedelta(days=365)\n",
    "\n",
    "print(new_start_date, new_end_date)\n"
   ]
  },
  {
   "cell_type": "code",
   "execution_count": null,
   "metadata": {},
   "outputs": [],
   "source": [
    "#create inspector for inspecting the tables\n",
    "inspector = inspect(engine)\n",
    "inspector.get_table_names()"
   ]
  },
  {
   "cell_type": "code",
   "execution_count": 115,
   "metadata": {},
   "outputs": [
    {
     "name": "stdout",
     "output_type": "stream",
     "text": [
      "id INTEGER\n",
      "station TEXT\n",
      "date TEXT\n",
      "prcp FLOAT\n",
      "tobs FLOAT\n"
     ]
    }
   ],
   "source": [
    "#inspect Measurement table\n",
    "columns = inspector.get_columns('Measurement')\n",
    "for c in columns:\n",
    "    print(c['name'], c['type'])"
   ]
  },
  {
   "cell_type": "code",
   "execution_count": 116,
   "metadata": {},
   "outputs": [
    {
     "name": "stdout",
     "output_type": "stream",
     "text": [
      "id INTEGER\n",
      "station TEXT\n",
      "name TEXT\n",
      "latitude FLOAT\n",
      "longitude FLOAT\n",
      "elevation FLOAT\n"
     ]
    }
   ],
   "source": [
    "#inspect Station table\n",
    "columns = inspector.get_columns('Station')\n",
    "for c in columns:\n",
    "    print(c['name'], c['type'])"
   ]
  },
  {
   "cell_type": "code",
   "execution_count": 167,
   "metadata": {},
   "outputs": [
    {
     "data": {
      "text/html": [
       "<div>\n",
       "<style scoped>\n",
       "    .dataframe tbody tr th:only-of-type {\n",
       "        vertical-align: middle;\n",
       "    }\n",
       "\n",
       "    .dataframe tbody tr th {\n",
       "        vertical-align: top;\n",
       "    }\n",
       "\n",
       "    .dataframe thead th {\n",
       "        text-align: right;\n",
       "    }\n",
       "</style>\n",
       "<table border=\"1\" class=\"dataframe\">\n",
       "  <thead>\n",
       "    <tr style=\"text-align: right;\">\n",
       "      <th></th>\n",
       "      <th>station</th>\n",
       "      <th>precipitations</th>\n",
       "      <th>name</th>\n",
       "      <th>latitude</th>\n",
       "      <th>longitude</th>\n",
       "      <th>elevation</th>\n",
       "    </tr>\n",
       "  </thead>\n",
       "  <tbody>\n",
       "    <tr>\n",
       "      <th>0</th>\n",
       "      <td>USC00519281</td>\n",
       "      <td>3.74</td>\n",
       "      <td>WAIHEE 837.5, HI US</td>\n",
       "      <td>21.45167</td>\n",
       "      <td>-157.84889</td>\n",
       "      <td>32.9</td>\n",
       "    </tr>\n",
       "    <tr>\n",
       "      <th>1</th>\n",
       "      <td>USC00514830</td>\n",
       "      <td>2.60</td>\n",
       "      <td>KUALOA RANCH HEADQUARTERS 886.9, HI US</td>\n",
       "      <td>21.52130</td>\n",
       "      <td>-157.83740</td>\n",
       "      <td>7.0</td>\n",
       "    </tr>\n",
       "    <tr>\n",
       "      <th>2</th>\n",
       "      <td>USC00513117</td>\n",
       "      <td>2.60</td>\n",
       "      <td>KANEOHE 838.1, HI US</td>\n",
       "      <td>21.42340</td>\n",
       "      <td>-157.80150</td>\n",
       "      <td>14.6</td>\n",
       "    </tr>\n",
       "    <tr>\n",
       "      <th>3</th>\n",
       "      <td>USC00519523</td>\n",
       "      <td>2.46</td>\n",
       "      <td>WAIMANALO EXPERIMENTAL FARM, HI US</td>\n",
       "      <td>21.33556</td>\n",
       "      <td>-157.71139</td>\n",
       "      <td>19.5</td>\n",
       "    </tr>\n",
       "    <tr>\n",
       "      <th>4</th>\n",
       "      <td>USC00518838</td>\n",
       "      <td>2.33</td>\n",
       "      <td>UPPER WAHIAWA 874.3, HI US</td>\n",
       "      <td>21.49920</td>\n",
       "      <td>-158.01110</td>\n",
       "      <td>306.6</td>\n",
       "    </tr>\n",
       "    <tr>\n",
       "      <th>5</th>\n",
       "      <td>USC00516128</td>\n",
       "      <td>1.69</td>\n",
       "      <td>MANOA LYON ARBO 785.2, HI US</td>\n",
       "      <td>21.33310</td>\n",
       "      <td>-157.80250</td>\n",
       "      <td>152.4</td>\n",
       "    </tr>\n",
       "    <tr>\n",
       "      <th>6</th>\n",
       "      <td>USC00519397</td>\n",
       "      <td>1.41</td>\n",
       "      <td>WAIKIKI 717.2, HI US</td>\n",
       "      <td>21.27160</td>\n",
       "      <td>-157.81680</td>\n",
       "      <td>3.0</td>\n",
       "    </tr>\n",
       "    <tr>\n",
       "      <th>7</th>\n",
       "      <td>USC00511918</td>\n",
       "      <td>0.63</td>\n",
       "      <td>HONOLULU OBSERVATORY 702.2, HI US</td>\n",
       "      <td>21.31520</td>\n",
       "      <td>-157.99920</td>\n",
       "      <td>0.9</td>\n",
       "    </tr>\n",
       "    <tr>\n",
       "      <th>8</th>\n",
       "      <td>USC00517948</td>\n",
       "      <td>NaN</td>\n",
       "      <td>PEARL CITY, HI US</td>\n",
       "      <td>21.39340</td>\n",
       "      <td>-157.97510</td>\n",
       "      <td>11.9</td>\n",
       "    </tr>\n",
       "  </tbody>\n",
       "</table>\n",
       "</div>"
      ],
      "text/plain": [
       "       station  precipitations                                    name  \\\n",
       "0  USC00519281            3.74                     WAIHEE 837.5, HI US   \n",
       "1  USC00514830            2.60  KUALOA RANCH HEADQUARTERS 886.9, HI US   \n",
       "2  USC00513117            2.60                    KANEOHE 838.1, HI US   \n",
       "3  USC00519523            2.46      WAIMANALO EXPERIMENTAL FARM, HI US   \n",
       "4  USC00518838            2.33              UPPER WAHIAWA 874.3, HI US   \n",
       "5  USC00516128            1.69            MANOA LYON ARBO 785.2, HI US   \n",
       "6  USC00519397            1.41                    WAIKIKI 717.2, HI US   \n",
       "7  USC00511918            0.63       HONOLULU OBSERVATORY 702.2, HI US   \n",
       "8  USC00517948             NaN                       PEARL CITY, HI US   \n",
       "\n",
       "   latitude  longitude  elevation  \n",
       "0  21.45167 -157.84889       32.9  \n",
       "1  21.52130 -157.83740        7.0  \n",
       "2  21.42340 -157.80150       14.6  \n",
       "3  21.33556 -157.71139       19.5  \n",
       "4  21.49920 -158.01110      306.6  \n",
       "5  21.33310 -157.80250      152.4  \n",
       "6  21.27160 -157.81680        3.0  \n",
       "7  21.31520 -157.99920        0.9  \n",
       "8  21.39340 -157.97510       11.9  "
      ]
     },
     "execution_count": 167,
     "metadata": {},
     "output_type": "execute_result"
    }
   ],
   "source": [
    "# Calculate the rainfall per weather station for your trip dates using the previous year's matching dates.\n",
    "# Sort this in descending order by precipitation amount and list the station, name, latitude, longitude, and elevation\n",
    "\n",
    "final_query = f\"SELECT m.station, SUM(m.prcp) AS precipitations, s.name, s.latitude, s.longitude, s.elevation \\\n",
    "                FROM Measurement m JOIN Station s ON m.station = s.station \\\n",
    "                WHERE m.date BETWEEN '2011-02-28' AND '2011-03-06' \\\n",
    "                GROUP BY m.station \\\n",
    "                ORDER BY precipitations DESC\"\n",
    "final_df = pd.read_sql_query(final_query, session.bind)\n",
    "final_df"
   ]
  },
  {
   "cell_type": "markdown",
   "metadata": {},
   "source": [
    "## Step 2 - Climate App"
   ]
  },
  {
   "cell_type": "code",
   "execution_count": 190,
   "metadata": {},
   "outputs": [],
   "source": [
    "from flask import Flask, jsonify"
   ]
  },
  {
   "cell_type": "code",
   "execution_count": null,
   "metadata": {},
   "outputs": [],
   "source": [
    "engine = create_engine(\"sqlite:///hawaii.sqlite\")"
   ]
  },
  {
   "cell_type": "markdown",
   "metadata": {},
   "source": [
    "/api/v1.0/precipitation\n",
    "\n",
    "\n",
    "Query for the dates and temperature observations from the last year.\n",
    "Convert the query results to a Dictionary using date as the key and tobs as the value.\n",
    "Return the JSON representation of your dictionary."
   ]
  },
  {
   "cell_type": "code",
   "execution_count": null,
   "metadata": {},
   "outputs": [],
   "source": [
    "#calculate the dates for the query.\n",
    "end_date = dt.datetime(year=2017, month=8, day=23)\n",
    "start_date = end_date - dt.timedelta(days=365)"
   ]
  },
  {
   "cell_type": "code",
   "execution_count": 194,
   "metadata": {},
   "outputs": [],
   "source": [
    "# query data set\n",
    "query = f\"SELECT * FROM measurement WHERE date >= '{start_date}' AND date <= '{end_date}'\"\n",
    "\n",
    "# build df from query result\n",
    "df_query = pd.read_sql_query(query, session.bind)\n"
   ]
  },
  {
   "cell_type": "code",
   "execution_count": 202,
   "metadata": {},
   "outputs": [],
   "source": [
    "# Routes\n",
    "# /api/v1.0/precipitation\n",
    "# Query for the dates and temperature observations from the last year\n",
    "#app = Flask(__name__)\n",
    "\n",
    "#@app.route('/api/v1.0/precipitation') \n",
    "def precipitation():\n",
    "    print(\"Server received request for 'Precipitation' page...\")\n",
    "    return \"These are the dates and temperature observations from last year.\"\n",
    "  \n",
    "    # create replica of df_query to remove unwanted columns but leave the original df for other queries\n",
    "    df_query_tobs = df_query\n",
    "\n",
    "    # removed unwanted columns\n",
    "    df_query_tobs.drop('id', axis=1, inplace=True)\n",
    "    df_query_tobs.drop('station', axis=1, inplace=True)\n",
    "    df_query_tobs.drop('prcp', axis=1, inplace=True)\n",
    "    \n",
    "# Return the json representation dictionary. df to dictionary happening inside the argument of jsonify\n",
    "    return jsonify(df_query_tobs.to_dict(orient='records'))"
   ]
  },
  {
   "cell_type": "code",
   "execution_count": 207,
   "metadata": {},
   "outputs": [],
   "source": [
    "# Return a json list of stations from the dataset\n",
    "\n",
    "def stations():\n",
    "    print(\"Server received request for 'stations' page...\")\n",
    "    return \"These are the list of stations that recorded dates and temperature observations from last year.\"\n",
    "  \n",
    "    query = f\"SELECT DISTINCT station FROM measurement WHERE date >= '{start_date}' AND date <= '{end_date}'\"\n",
    "    \n",
    "    # build df from query result\n",
    "    df_query = pd.read_sql_query(query, session.bind)\n",
    "    \n",
    "# Return the json representation dictionary. df to dictionary happening inside the argument of jsonify\n",
    "    return jsonify(df_query.to_dict(orient='records'))"
   ]
  },
  {
   "cell_type": "code",
   "execution_count": 209,
   "metadata": {},
   "outputs": [],
   "source": [
    "# /api/v1.0/tobs\n",
    "# Return a json list of Temperature Observations (tobs) for the previous year\n",
    "#@app.route('/api/v1.0/tobs') \n",
    "def tobs():\n",
    "    print(\"Server received request for 'Temperature Observations' page...\")\n",
    "    return \"This is the list of Temperature Observations (tobs) from previous year!\"\n",
    "    \n",
    "    #calculate the dates for previous year for the query.\n",
    "    start_date2 = start_date - dt.timedelta(days=365)\n",
    "    end_date2 = end_date - dt.timedelta(days=365)\n",
    "    \n",
    "    query = f\"SELECT tobs FROM measurement WHERE date >= '{start_date2}' AND date <= '{end_date2}'\"\n",
    "    \n",
    "    # build df from query result\n",
    "    df_query = pd.read_sql_query(query, session.bind)\n",
    "    \n",
    "    return jsonify(df_query.to_dict(orient='records'))"
   ]
  },
  {
   "cell_type": "code",
   "execution_count": null,
   "metadata": {},
   "outputs": [],
   "source": [
    "# /api/v1.0/<start> and /api/v1.0/<start>/<end>\n",
    "# Return a json list of the minimum temperature, the average temperature, and \n",
    "# the max temperature for a given start or start-end range.\n",
    "@app.route('/api/v1.0/<start>)') \n",
    "def tobs_start():\n",
    "    print(\"Server received request for 'Min Temp, Avg Temp, Max Temp of a given start' page...\")\n",
    "    return \"Here is the list of Temperature information for the a given date!\"\n",
    "    \n",
    "    query = f\"SELECT MIN(tobs), MAX(tobs), AVG(tobs) FROM measurement WHERE date >= '{start_date}'\"\n",
    "    \n",
    "    # build df from query result\n",
    "    df_query = pd.read_sql_query(query, session.bind)\n",
    "\n",
    "    my_list = df_query[\"MIN(tobs)\"].values\n",
    "    min_tobs = my_list[0]\n",
    "\n",
    "    my_list = df_query[\"MAX(tobs)\"].values\n",
    "    max_tobs = my_list[0]\n",
    "\n",
    "    my_list = df_query[\"AVG(tobs)\"].values\n",
    "    avg_tobs = my_list[0]\n",
    "    \n",
    "    return jsonify(min_tobs, max_tobs, avg_tobs)\n",
    "\n",
    "@app.route('/api/v1.0/<start>/<end>') \n",
    "def tobs_given_range():\n",
    "    \n",
    "    print(\"Server received request for 'Min Temp, Avg Temp, Max Temp of a given start or date range' page...\")\n",
    "    return \"Here is the list of Temperature information for the a given date range!\"\n",
    "    \n",
    "    query = f\"SELECT MIN(tobs) FROM measurement WHERE date >= '{start_date}' AND date <= '{end_date}'\"\n",
    "    \n",
    "    # build df from query result\n",
    "    df_query = pd.read_sql_query(query, session.bind)\n",
    "\n",
    "    my_list = df_query[\"MIN(tobs)\"].values\n",
    "    min_tobs = my_list[0]\n",
    "\n",
    "    my_list = df_query[\"MAX(tobs)\"].values\n",
    "    max_tobs = my_list[0]\n",
    "\n",
    "    my_list = df_query[\"AVG(tobs)\"].values\n",
    "    avg_tobs = my_list[0]\n",
    "    \n",
    "    return jsonify(min_tobs, max_tobs, avg_tobs)"
   ]
  }
 ],
 "metadata": {
  "kernel_info": {
   "name": "python3"
  },
  "kernelspec": {
   "display_name": "Python 3",
   "language": "python",
   "name": "python3"
  },
  "language_info": {
   "codemirror_mode": {
    "name": "ipython",
    "version": 3
   },
   "file_extension": ".py",
   "mimetype": "text/x-python",
   "name": "python",
   "nbconvert_exporter": "python",
   "pygments_lexer": "ipython3",
   "version": "3.6.8"
  },
  "nteract": {
   "version": "0.9.1"
  },
  "varInspector": {
   "cols": {
    "lenName": 16,
    "lenType": 16,
    "lenVar": 40
   },
   "kernels_config": {
    "python": {
     "delete_cmd_postfix": "",
     "delete_cmd_prefix": "del ",
     "library": "var_list.py",
     "varRefreshCmd": "print(var_dic_list())"
    },
    "r": {
     "delete_cmd_postfix": ") ",
     "delete_cmd_prefix": "rm(",
     "library": "var_list.r",
     "varRefreshCmd": "cat(var_dic_list()) "
    }
   },
   "types_to_exclude": [
    "module",
    "function",
    "builtin_function_or_method",
    "instance",
    "_Feature"
   ],
   "window_display": false
  }
 },
 "nbformat": 4,
 "nbformat_minor": 2
}
